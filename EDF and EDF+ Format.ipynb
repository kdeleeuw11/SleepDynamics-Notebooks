{
 "cells": [
  {
   "cell_type": "code",
   "execution_count": 1,
   "metadata": {},
   "outputs": [],
   "source": [
    "from IPython.display import display, HTML, Image, clear_output"
   ]
  },
  {
   "cell_type": "markdown",
   "metadata": {},
   "source": [
    "<center><span style=\"color:blue;font-family:helvetica; font-size:3.5rem; font-weight:700;\">EDF and EDF+ Format</span></center>\n"
   ]
  },
  {
   "cell_type": "markdown",
   "metadata": {},
   "source": [
    "# References\n",
    "- [European Data Format](https://www.edfplus.info/index.html)"
   ]
  },
  {
   "cell_type": "markdown",
   "metadata": {},
   "source": [
    "# EDF Format\n",
    "The header information of an EDF file is shown below:\n",
    "<img src=figs/fig_4.png>  \n",
    "\n",
    "The data records are:\n",
    "- nr of samples[1] * integer : first signal in the data record \n",
    "- nr of samples[2] * integer : second signal \n",
    "- .. \n",
    "- .. \n",
    "- nr of samples[ns] * integer : last signal "
   ]
  },
  {
   "cell_type": "markdown",
   "metadata": {},
   "source": [
    "The header information of an EDF+ file for a hypnogram is shown below:\n",
    "<img src=figs/fig_5.png>"
   ]
  },
  {
   "cell_type": "markdown",
   "metadata": {},
   "source": [
    "# Data records in hypnogram file\n",
    "In an EDF+ file, the value in the data records can be annotations which can occur at any arbitrary point of time. The signal is identified by giving it in the EDF+ header the label `'EDF Annotations'`.  \n",
    "\n",
    "As in EDF, the `nr of samples in each data record` specifies how many 2-byte integers this `EDF Annotations` signal occupies in each data record. But instead of storing 'ordinary signal' samples, those 2-byte integers are filled with characters. E.g. the text 'abc' is represented by successive byte values 97, 98 and 99 in the `EDF Annotations` signal (but shows on the terminal as 'abc').  \n",
    "\n",
    "In the example output in the figure above, the `nr of samples in each record` is 2054. This means 2054 2-bytes is 4108 bytes. The total length of this EDF+ file is 4620 = 4108 + 512 (number of bytes in header record).  \n",
    "\n",
    "Text, time-keeping, events and stimuli are coded as text annotations in this `EDF Annotations` signal. The annotations are listed in Time-stamped Annotations Lists (TALs) as follows:\n",
    "- each TAL starts with a time stamp `Onset(21)Duration(20)` in which 21 and 20 are single bytes with value 21 and 20 (`\\x15` and `\\x14`; they are unprintable ASCII characters). `Onset` and `Duration` are coded using US-ASCII characters with byte values 43, 45, 46 (`\\x2B`, `\\x2D`, `\\x2E`; `+`, `-`, `.`) and 48-57 (`\\x30-\\x39`; `0-9`). The `.` is only used to specify fractions of seconds.  \n",
    "\n",
    "After the time stamp, a list of annotations all sharing the same Onset and Duration may follow. Each annotation is followed by a single `20` and may not contain nay `20`. A `0`-byte (the unprintable ASCII character with byte value 0) follows after the last `20` of the TAL. So the TAL ends with a `20` followed y a `0`.  \n",
    "\n",
    "An example from the EDF+ specifications:  \n",
    "'+1800.2`21`25.5`20`Apnea`20``0`: this codes a 25.5s apnea that begins 30 minutes and 0.2s after start time.  \n",
    "\n",
    "The part between `20` and the next `20` is called one annotation.  \n",
    "\n",
    "Because data records need not be contiguous, the start time of each data record must be specified in another way. So, the first annotation of the first `EDF Annotations` signal in each data record is empty, but its time stamp specifies how many seconds after the filestartdate/time that data record starts. This means for the hypnogram files, that they start with `+0\\x14\\x14\\x00`\n"
   ]
  },
  {
   "cell_type": "code",
   "execution_count": null,
   "metadata": {},
   "outputs": [],
   "source": []
  }
 ],
 "metadata": {
  "hide_input": false,
  "kernelspec": {
   "display_name": "Python 3",
   "language": "python",
   "name": "python3"
  },
  "language_info": {
   "codemirror_mode": {
    "name": "ipython",
    "version": 3
   },
   "file_extension": ".py",
   "mimetype": "text/x-python",
   "name": "python",
   "nbconvert_exporter": "python",
   "pygments_lexer": "ipython3",
   "version": "3.6.4"
  },
  "toc": {
   "nav_menu": {},
   "number_sections": true,
   "sideBar": true,
   "skip_h1_title": false,
   "toc_cell": false,
   "toc_position": {},
   "toc_section_display": "block",
   "toc_window_display": false
  }
 },
 "nbformat": 4,
 "nbformat_minor": 2
}
