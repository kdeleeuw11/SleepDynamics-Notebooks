{
 "cells": [
  {
   "cell_type": "code",
   "execution_count": null,
   "metadata": {},
   "outputs": [],
   "source": [
    "from IPython.display import display, HTML, Image, clear_output\n",
    "import numpy as np\n",
    "import matplotlib.pyplot as plt"
   ]
  },
  {
   "cell_type": "markdown",
   "metadata": {},
   "source": [
    "<center><span style=\"color:blue;font-family:helvetica; font-size:3.5rem; font-weight:700;\">Python Sleep Software</span></center>\n"
   ]
  },
  {
   "cell_type": "markdown",
   "metadata": {},
   "source": [
    "# General\n",
    "This notebook contains some general notes about the Sleep Software which might be used in the Sleep Dynamics Project.   \n",
    "At this stage the software which might be used is:\n",
    "- `visbrain`\n",
    "- `mne` (the Python 3 version)\n",
    "- `wonambi` \n",
    "- `pyedflib`"
   ]
  },
  {
   "cell_type": "markdown",
   "metadata": {},
   "source": [
    "# GitHub\n",
    "At this stage I have set up two GitHub repositories:\n",
    "- Python-Sleep-Software (https://github.com/kdeleeuw11/Python-Sleep-Software)  \n",
    "this repository is set up for:\n",
    " - notes in the form of Jupyter notebooks \n",
    " - Python programs, specifically test programs\n",
    "- visbrain_kld(https://github.com/kdeleeuw11/visbrain_kdl)  \n",
    "this repository contains a copy of the Visbrain software and is used for exchanging changes required for the Sleep Dynamics Project"
   ]
  },
  {
   "cell_type": "markdown",
   "metadata": {},
   "source": [
    "# Visbrain Software\n",
    "The Visbrain Software is an open-source Python 3 packaged dedicated to brain signals visualisation. Visbrain contains a module called Sleep which is a graphical interface dedicated to visualisation and scoring of sleep data.  \n",
    "\n",
    "The documentation:\n",
    "- [Visbrain documentation](http://visbrain.org/)\n",
    "- [Visbrain Sleep documentation](http://visbrain.readthedocs.io/en/latest/sleep.html)  \n",
    "\n",
    "The Visbrain Sleep module allows the reading of files of brain signals in various formats including edf files which is important for the project as the plan is to use a number of files on sleep from Physionet as the basis for the project. These files are all edf files.  \n",
    "\n",
    "In addition to reading files of brain signals using the Visbrain IO module, it is also possible to interface Visbrain with the MNE software where MNE is used to read the data.\n",
    "\n",
    "The Visbrain Sleep module also allows the reading of hypnogram files in various formats.  \n",
    "\n",
    "There are, however, some issues related to the reading of files:\n",
    "- Visbrain Sleep cannot handle files which contain information for multiple channels for which the sample frequency is different. In such situations, only the channels which have the highest sampling frequency are read, while the others are ignored\n",
    "- Physionet hypnogram files are either edf files or hyp files, but cannot be directly read by Visbrain Sleep  \n",
    "\n",
    "These issues can be addressed in the following way:\n",
    "- the interface with MNE is used to read the edf files containing brain signals. This is done by setting a parameter `use_mne` to True. However, it was found that there is an interface issue between Visbrain and MNE for situations where the sampling frequency for the various channels is different. This issue has been addressed by a small modification in the `mneio.py` program in the directory `visbrain/io`\n",
    "- a Python program needs to be developed to convert the Physionet hypnogram files to hypnogram files which can be read by Visbrain. The best option looks like converting the Physionet hypnogram files to txt files. Ideally this should be done in the program which has as input also the file with brainwaves and where Visbrain is called\n",
    "\n",
    "\n",
    "\n"
   ]
  },
  {
   "cell_type": "markdown",
   "metadata": {},
   "source": [
    "## Visbrain installation\n",
    "- create a folder, e.g. SleepDynamics\n",
    "- cd to this folder\n",
    "- do `git clone` source e.g. `https://github.com/kdeleeuw11/visbrain`\n",
    "- do 'cd visbrain`\n",
    "- `pip install -r requirement.txt`\n",
    "- `conda install mkl`\n",
    "- `python setup.py develop`"
   ]
  },
  {
   "cell_type": "markdown",
   "metadata": {},
   "source": [
    "## Git repository for Visbrain\n",
    "I have done the following steps:\n",
    "- forked `Visbrain` source `https://github.com/EtienneCmb/visbrain.git`\n",
    "- made a change in `io/read_eft.py` to get the correct sample frequency. This rectified situations where the samples/record is not equal to 1 (as in Physionet database)\n",
    "- made a change in `io/mneio.py` to get to correct the Volts to microVolts when using MNE \n",
    "- added a function to `io/rw_hypno.py` to read hypnogram files from the Physionet database which use the EDF+ format"
   ]
  },
  {
   "cell_type": "markdown",
   "metadata": {},
   "source": [
    "# MNE software\n",
    "MNE-Python is an open-source Python package for exploring, visualizing, and analyzing human neurophysiological data such as MEG, EEG, sEEG, ECoG, and more. It includes modules for data input/output, preprocessing, visualization, source estimation, time-frequency analysis, connectivity analysis, machine learning, and statistics.  \n",
    "\n",
    "Standard MNE is based on Python 2, but there is an experimental version based on Python 3. It is the Python 3 version which is used here.  \n",
    "\n",
    "The documentation:\n",
    "- [MNE Homepage](https://martinos.org/mne/stable/index.html)\n",
    "- [Development version 0.16](https://martinos.org/mne/dev/documentation.html)"
   ]
  },
  {
   "cell_type": "markdown",
   "metadata": {},
   "source": [
    "# pyedflib\n",
    "I have installed [`pyedflib`](https://github.com/holgern/pyedflib) in the sleepdynamic conda environment. Still to be explored."
   ]
  },
  {
   "cell_type": "code",
   "execution_count": null,
   "metadata": {},
   "outputs": [],
   "source": []
  }
 ],
 "metadata": {
  "hide_input": false,
  "kernelspec": {
   "display_name": "Python 3",
   "language": "python",
   "name": "python3"
  },
  "language_info": {
   "codemirror_mode": {
    "name": "ipython",
    "version": 3
   },
   "file_extension": ".py",
   "mimetype": "text/x-python",
   "name": "python",
   "nbconvert_exporter": "python",
   "pygments_lexer": "ipython3",
   "version": "3.6.5"
  },
  "toc": {
   "base_numbering": 1,
   "nav_menu": {},
   "number_sections": true,
   "sideBar": true,
   "skip_h1_title": false,
   "title_cell": "Table of Contents",
   "title_sidebar": "Contents",
   "toc_cell": false,
   "toc_position": {},
   "toc_section_display": "block",
   "toc_window_display": false
  }
 },
 "nbformat": 4,
 "nbformat_minor": 2
}
